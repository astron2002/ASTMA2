{
 "cells": [
  {
   "cell_type": "code",
   "execution_count": 1,
   "metadata": {},
   "outputs": [
    {
     "name": "stdout",
     "output_type": "stream",
     "text": [
      "defaultdict(<class 'list'>, {'example': ['https://www.example.com', 'https://www.example.com'], 'domain': ['https://www.example.com', 'https://www.example.com', 'https://www.example.com', 'https://www.example.com'], 'this': ['https://www.example.com', 'https://www.example.com'], 'is': ['https://www.example.com'], 'for': ['https://www.example.com', 'https://www.example.com'], 'use': ['https://www.example.com', 'https://www.example.com'], 'in': ['https://www.example.com', 'https://www.example.com', 'https://www.example.com'], 'illustrative': ['https://www.example.com'], 'examples': ['https://www.example.com'], 'documents': ['https://www.example.com'], 'you': ['https://www.example.com'], 'may': ['https://www.example.com'], 'literature': ['https://www.example.com'], 'without': ['https://www.example.com'], 'prior': ['https://www.example.com'], 'coordination': ['https://www.example.com'], 'or': ['https://www.example.com'], 'asking': ['https://www.example.com'], 'permission': ['https://www.example.com'], 'more': ['https://www.example.com'], 'information': ['https://www.example.com']})\n"
     ]
    }
   ],
   "source": [
    "from bs4 import BeautifulSoup\n",
    "from collections import defaultdict\n",
    "import requests\n",
    "import re\n",
    "\n",
    "def web_index(url):\n",
    "    # Send a GET request to the URL\n",
    "    response = requests.get(url)\n",
    "    \n",
    "    # If the GET request is successful, the status code will be 200\n",
    "    if response.status_code == 200:\n",
    "        # Get the content of the response\n",
    "        page_content = response.content\n",
    "        \n",
    "        # Create a BeautifulSoup object and specify the parser\n",
    "        soup = BeautifulSoup(page_content, 'html.parser')\n",
    "        \n",
    "        # Remove script tags\n",
    "        for script in soup([\"script\", \"style\"]):\n",
    "            script.decompose()\n",
    "        \n",
    "        # Get the text from the soup object\n",
    "        text = soup.get_text()\n",
    "        \n",
    "        # Create a dictionary to hold the index\n",
    "        index = defaultdict(list)\n",
    "        \n",
    "        # Split the text into words and iterate over each word\n",
    "        for word in re.findall(r'\\b\\w+\\b', text):\n",
    "            # Convert word to lowercase and add it to the index\n",
    "            index[word.lower()].append(url)\n",
    "        \n",
    "        return index\n",
    "\n",
    "# Test the function with a URL\n",
    "print(web_index('https://www.example.com'))\n"
   ]
  },
  {
   "cell_type": "code",
   "execution_count": 5,
   "metadata": {},
   "outputs": [
    {
     "name": "stdout",
     "output_type": "stream",
     "text": [
      "example ['https://www.example.com', 'https://www.example.com']\n",
      "domain ['https://www.example.com', 'https://www.example.com', 'https://www.example.com', 'https://www.example.com']\n",
      "this ['https://www.example.com', 'https://www.example.com']\n",
      "is ['https://www.example.com']\n",
      "for ['https://www.example.com', 'https://www.example.com']\n",
      "use ['https://www.example.com', 'https://www.example.com']\n",
      "in ['https://www.example.com', 'https://www.example.com', 'https://www.example.com']\n",
      "illustrative ['https://www.example.com']\n",
      "examples ['https://www.example.com']\n",
      "documents ['https://www.example.com']\n",
      "you ['https://www.example.com']\n",
      "may ['https://www.example.com']\n",
      "literature ['https://www.example.com']\n",
      "without ['https://www.example.com']\n",
      "prior ['https://www.example.com']\n",
      "coordination ['https://www.example.com']\n",
      "or ['https://www.example.com']\n",
      "asking ['https://www.example.com']\n",
      "permission ['https://www.example.com']\n",
      "more ['https://www.example.com']\n",
      "information ['https://www.example.com']\n"
     ]
    }
   ],
   "source": [
    "a=web_index(\"https://www.example.com\")\n",
    "for i,j in a.items():\n",
    "    print(i,j)"
   ]
  },
  {
   "cell_type": "code",
   "execution_count": null,
   "metadata": {},
   "outputs": [],
   "source": []
  }
 ],
 "metadata": {
  "kernelspec": {
   "display_name": "tf",
   "language": "python",
   "name": "python3"
  },
  "language_info": {
   "codemirror_mode": {
    "name": "ipython",
    "version": 3
   },
   "file_extension": ".py",
   "mimetype": "text/x-python",
   "name": "python",
   "nbconvert_exporter": "python",
   "pygments_lexer": "ipython3",
   "version": "3.9.17"
  },
  "orig_nbformat": 4
 },
 "nbformat": 4,
 "nbformat_minor": 2
}
