{
 "cells": [
  {
   "cell_type": "code",
   "execution_count": 6,
   "metadata": {},
   "outputs": [],
   "source": [
    "# !python -m spacy download en_core_web_sm\n"
   ]
  },
  {
   "cell_type": "code",
   "execution_count": 7,
   "metadata": {},
   "outputs": [],
   "source": [
    "import spacy\n",
    "# Load the English NLP model\n",
    "nlp = spacy.load(\"en_core_web_sm\")"
   ]
  },
  {
   "cell_type": "code",
   "execution_count": 8,
   "metadata": {},
   "outputs": [],
   "source": [
    "# Text data to extract information from\n",
    "text = \"\"\"\n",
    "Apple Inc. is an American multinational technology company headquartered in Cupertino, California.\n",
    "It was founded by Steve Jobs, Steve Wozniak, and Ronald Wayne in 1976.\n",
    "Apple designs, manufactures, and markets consumer electronics, computer software, and online services.\n",
    "\"\"\""
   ]
  },
  {
   "cell_type": "code",
   "execution_count": 9,
   "metadata": {},
   "outputs": [
    {
     "name": "stdout",
     "output_type": "stream",
     "text": [
      "Entity: Apple Inc., Label: ORG\n",
      "Entity: American, Label: NORP\n",
      "Entity: Cupertino, Label: GPE\n",
      "Entity: California, Label: GPE\n",
      "Entity: Steve Jobs, Label: PERSON\n",
      "Entity: Steve Wozniak, Label: PERSON\n",
      "Entity: Ronald Wayne, Label: PERSON\n",
      "Entity: 1976, Label: DATE\n",
      "Entity: Apple, Label: ORG\n"
     ]
    }
   ],
   "source": [
    "# Process the text with spaCy\n",
    "doc = nlp(text)\n",
    "# Extract named entities (e.g., organizations, persons, locations)\n",
    "for entity in doc.ents:\n",
    "    print(f\"Entity: {entity.text}, Label: {entity.label_}\")\n",
    "# Extract specific information\n",
    "found_keywords = []\n",
    "for token in doc:\n",
    "    if token.text.lower() == \"founded\":\n",
    "        found_keywords.append(token)\n",
    "if found_keywords:\n",
    "# Assuming we want to extract the organization's founding details\n",
    "    organization = None\n",
    "    for ent in found_keywords[0].head.children:\n",
    "        if ent.ent_type_ == \"ORG\":\n",
    "            organization = ent.text\n",
    "    if organization:\n",
    "        print(f\"{organization} was founded by:\")\n",
    "        for child in found_keywords[0].children:\n",
    "            if child.ent_type_ == \"PERSON\":\n",
    "                print(child.text)"
   ]
  },
  {
   "cell_type": "code",
   "execution_count": 10,
   "metadata": {},
   "outputs": [
    {
     "data": {
      "text/plain": [
       "\n",
       "Apple Inc. is an American multinational technology company headquartered in Cupertino, California.\n",
       "It was founded by Steve Jobs, Steve Wozniak, and Ronald Wayne in 1976.\n",
       "Apple designs, manufactures, and markets consumer electronics, computer software, and online services."
      ]
     },
     "execution_count": 10,
     "metadata": {},
     "output_type": "execute_result"
    }
   ],
   "source": [
    "doc"
   ]
  },
  {
   "cell_type": "code",
   "execution_count": 11,
   "metadata": {},
   "outputs": [
    {
     "data": {
      "text/plain": [
       "[founded]"
      ]
     },
     "execution_count": 11,
     "metadata": {},
     "output_type": "execute_result"
    }
   ],
   "source": [
    "found_keywords"
   ]
  },
  {
   "cell_type": "code",
   "execution_count": null,
   "metadata": {},
   "outputs": [],
   "source": []
  }
 ],
 "metadata": {
  "kernelspec": {
   "display_name": "tf",
   "language": "python",
   "name": "python3"
  },
  "language_info": {
   "codemirror_mode": {
    "name": "ipython",
    "version": 3
   },
   "file_extension": ".py",
   "mimetype": "text/x-python",
   "name": "python",
   "nbconvert_exporter": "python",
   "pygments_lexer": "ipython3",
   "version": "3.9.17"
  }
 },
 "nbformat": 4,
 "nbformat_minor": 2
}
