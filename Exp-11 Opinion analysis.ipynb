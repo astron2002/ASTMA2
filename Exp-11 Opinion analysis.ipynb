{
 "cells": [
  {
   "cell_type": "code",
   "execution_count": 1,
   "metadata": {},
   "outputs": [],
   "source": [
    "import nltk"
   ]
  },
  {
   "cell_type": "code",
   "execution_count": 2,
   "metadata": {},
   "outputs": [],
   "source": [
    "from nltk.sentiment.vader import SentimentIntensityAnalyzer"
   ]
  },
  {
   "cell_type": "code",
   "execution_count": 3,
   "metadata": {},
   "outputs": [],
   "source": [
    "# nltk.download('vader_lexicon')"
   ]
  },
  {
   "cell_type": "code",
   "execution_count": 4,
   "metadata": {},
   "outputs": [],
   "source": [
    "sid = SentimentIntensityAnalyzer()"
   ]
  },
  {
   "cell_type": "code",
   "execution_count": 5,
   "metadata": {},
   "outputs": [],
   "source": [
    "texts = [\n",
    "\"I love this product! It's amazing.\",\n",
    "\"The service was terrible. I'm very disappointed.\",\n",
    "\"This movie is neither good nor bad.\",\n",
    "\"I don't have any strong feelings about this issue.\"\n",
    "]"
   ]
  },
  {
   "cell_type": "code",
   "execution_count": 6,
   "metadata": {},
   "outputs": [
    {
     "name": "stdout",
     "output_type": "stream",
     "text": [
      "Text:'I love this product! It's amazing.'\n",
      "Sentiment:Positive (Compound Score: 0.8516)\n",
      "------------------------------\n",
      "Text:'The service was terrible. I'm very disappointed.'\n",
      "Sentiment:Negative (Compound Score: -0.7574)\n",
      "------------------------------\n",
      "Text:'This movie is neither good nor bad.'\n",
      "Sentiment:Negative (Compound Score: -0.5824)\n",
      "------------------------------\n",
      "Text:'I don't have any strong feelings about this issue.'\n",
      "Sentiment:Negative (Compound Score: -0.4023)\n",
      "------------------------------\n"
     ]
    }
   ],
   "source": [
    "for text in texts:\n",
    "    sentiment_scores = sid.polarity_scores(text)\n",
    "    if sentiment_scores['compound']>=0.05:\n",
    "        sentiment=\"Positive\"\n",
    "    elif sentiment_scores[\"compound\"]<=-0.05:\n",
    "        sentiment=\"Negative\"\n",
    "    else:\n",
    "        sentiment=\"Neutral\"\n",
    "    print(f\"Text:'{text}'\")\n",
    "    print(f\"Sentiment:{sentiment} (Compound Score: {sentiment_scores['compound']})\")\n",
    "    print(\"-\"*30)"
   ]
  },
  {
   "cell_type": "code",
   "execution_count": null,
   "metadata": {},
   "outputs": [],
   "source": []
  }
 ],
 "metadata": {
  "kernelspec": {
   "display_name": "tf",
   "language": "python",
   "name": "python3"
  },
  "language_info": {
   "codemirror_mode": {
    "name": "ipython",
    "version": 3
   },
   "file_extension": ".py",
   "mimetype": "text/x-python",
   "name": "python",
   "nbconvert_exporter": "python",
   "pygments_lexer": "ipython3",
   "version": "3.9.17"
  }
 },
 "nbformat": 4,
 "nbformat_minor": 2
}
